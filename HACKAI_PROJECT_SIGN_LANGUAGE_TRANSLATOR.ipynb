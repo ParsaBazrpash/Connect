{
  "nbformat": 4,
  "nbformat_minor": 0,
  "metadata": {
    "colab": {
      "provenance": []
    },
    "kernelspec": {
      "name": "python3",
      "display_name": "Python 3"
    },
    "language_info": {
      "name": "python"
    }
  },
  "cells": [
    {
      "cell_type": "markdown",
      "source": [
        "\n",
        "HELPFUL VIDEO- https://www.youtube.com/watch?v=doDUihpj6ro&t=6611s\n",
        "---\n",
        "\n"
      ],
      "metadata": {
        "id": "7zIU9wN3yW_d"
      }
    },
    {
      "cell_type": "markdown",
      "source": [
        "**Aim:** To train and build a sign language translator for drive-thru kiosks.\n",
        "\n",
        "Train it to recognize words like burger, drink, fries, etc. (Drive-thru related) (**TBD**)\n"
      ],
      "metadata": {
        "id": "bBE8dkyXysj5"
      }
    },
    {
      "cell_type": "code",
      "source": [],
      "metadata": {
        "id": "zAqH4t2p0BTD"
      },
      "execution_count": null,
      "outputs": []
    }
  ]
}